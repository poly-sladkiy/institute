{
 "cells": [
  {
   "cell_type": "code",
   "execution_count": 1,
   "metadata": {},
   "outputs": [],
   "source": [
    "import numpy as np\n",
    "import matplotlib.pyplot as plt"
   ]
  },
  {
   "cell_type": "code",
   "execution_count": 2,
   "metadata": {},
   "outputs": [],
   "source": [
    "# Функция равномерного распределения\n",
    "def func_of_the_random(a:float, b:float, x:float):\n",
    "    return (x - a) / (b - a)"
   ]
  },
  {
   "cell_type": "code",
   "execution_count": 3,
   "metadata": {},
   "outputs": [],
   "source": [
    "# Плотность равномерного распределения\n",
    "def distribution_density(a, b):\n",
    "    return 1 / (b - a)"
   ]
  },
  {
   "cell_type": "code",
   "execution_count": 4,
   "metadata": {},
   "outputs": [],
   "source": [
    "a = -13\n",
    "b = 5\n",
    "\n",
    "x = [i for i in range(a, b + 1)]\n",
    "y = [func_of_the_random(a, b, i) for i in x]\n",
    "\n",
    "# плотность распределения\n",
    "distribution = distribution_density(a, b)"
   ]
  },
  {
   "cell_type": "code",
   "execution_count": 5,
   "metadata": {},
   "outputs": [],
   "source": [
    "MX = (a + b) / 2 # Математическое ожидание\n",
    "DX = (b - a)**2 / 12 # Дисперсия\n",
    "sigma = DX**(1/2) # Среднеквадратичное отклонение"
   ]
  },
  {
   "cell_type": "code",
   "execution_count": 6,
   "metadata": {},
   "outputs": [],
   "source": [
    "Mo = distribution # Мода\n",
    "Me = 1 / 2 * (b - a) + a # Медиана\n",
    "\n",
    "u3 = 1 / (b - a) / 4 * ( (b - MX)**4 - (a - MX)**4 ) # Третий момент\n",
    "u4 = 1 / (b - a) / 5 * ( (b - MX)**5 - (a - MX)**5 ) # Четвертый момент\n",
    "\n",
    "As = u3 / sigma**3 # Ассиметрия\n",
    "Ex = u4 / sigma**4 - 3 # Эксцесс"
   ]
  },
  {
   "cell_type": "code",
   "execution_count": 7,
   "metadata": {},
   "outputs": [
    {
     "data": {
      "image/png": "[encoded data removed]",
      "text/plain": [
       "<Figure size 432x288 with 1 Axes>"
      ]
     },
     "metadata": {
      "needs_background": "light"
     },
     "output_type": "display_data"
    }
   ],
   "source": [
    "# Графики\n",
    "fig, ax = plt.subplots()\n",
    "\n",
    "# Чтобы ось абсцисс всегда пересекала OY:\n",
    "if b < 0: \n",
    "    OXb = 1 \n",
    "else:\n",
    "    OXb = b + 5\n",
    "    \n",
    "if a > 0:\n",
    "    OXa = -1\n",
    "else:\n",
    "    OXa = a - 5\n",
    "\n",
    "# Ось XOY и вспомогательные линиии\n",
    "ax.hlines(0, OXa, OXb)\n",
    "ax.vlines(0, -0.1, 1.1)\n",
    "ax.hlines(1, OXa, OXb, linestyles=':', color='red')\n",
    "ax.vlines(a, -0.1, 1.1, linestyles='--')\n",
    "ax.vlines(b, -0.1, 1.1, linestyles='--')\n",
    "\n",
    "# Плотность распределения\n",
    "ax.hlines(distribution, a, b, color='green')\n",
    "\n",
    "# Функция распределения\n",
    "ax.plot(x, y, color='blue')\n",
    "ax.hlines(0, OXa, a, colors='blue')\n",
    "ax.hlines(1, b, OXb, colors='blue')\n",
    "\n",
    "# Медиана\n",
    "ax.vlines(Me, -0.1, 1.1, colors='lime')\n",
    "\n",
    "plt.show()"
   ]
  },
  {
   "cell_type": "code",
   "execution_count": 8,
   "metadata": {},
   "outputs": [
    {
     "name": "stdout",
     "output_type": "stream",
     "text": [
      "Мат. ожидание:\t\t-4.0\n",
      "Дисперсия:\t\t27.0\n",
      "Ср.кв. отклонение:\t5.196152422706632\n",
      "\n",
      "Мода:\t 0.05555555555555555\n",
      "Медиана: -4.0\n",
      "\n",
      "Ассиметрия:\t0.0\n",
      "Эксцесс:\t-1.2000000000000006\n"
     ]
    }
   ],
   "source": [
    "print(f\"Мат. ожидание:\\t\\t{MX}\\nДисперсия:\\t\\t{DX}\\nСр.кв. отклонение:\\t{sigma}\\n\")\n",
    "print(f\"Мода:\\t {Mo}\\nМедиана: {Me}\\n\")\n",
    "print(f\"Ассиметрия:\\t{As}\\nЭксцесс:\\t{Ex}\")"
   ]
  }
 ],
 "metadata": {
  "kernelspec": {
   "display_name": "Python 3",
   "language": "python",
   "name": "python3"
  },
  "language_info": {
   "codemirror_mode": {
    "name": "ipython",
    "version": 3
   },
   "file_extension": ".py",
   "mimetype": "text/x-python",
   "name": "python",
   "nbconvert_exporter": "python",
   "pygments_lexer": "ipython3",
   "version": "3.8.5"
  }
 },
 "nbformat": 4,
 "nbformat_minor": 4
}
