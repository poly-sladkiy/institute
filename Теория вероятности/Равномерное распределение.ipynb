{
 "cells": [
  {
   "cell_type": "code",
   "execution_count": 1,
   "metadata": {},
   "outputs": [],
   "source": [
    "import numpy as np\n",
    "import matplotlib.pyplot as plt"
   ]
  },
  {
   "cell_type": "code",
   "execution_count": 2,
   "metadata": {},
   "outputs": [],
   "source": [
    "def func_of_the_random(a:float, b:float, x:float):\n",
    "    return (x - a) / (b - a)"
   ]
  },
  {
   "cell_type": "code",
   "execution_count": 3,
   "metadata": {},
   "outputs": [],
   "source": [
    "def distribution_density(a, b):\n",
    "    return 1 / (b - a)"
   ]
  },
  {
   "cell_type": "code",
   "execution_count": 9,
   "metadata": {},
   "outputs": [
    {
     "data": {
      "image/png": "[encoded data removed]",
      "text/plain": [
       "<Figure size 432x288 with 1 Axes>"
      ]
     },
     "metadata": {
      "needs_background": "light"
     },
     "output_type": "display_data"
    }
   ],
   "source": [
    "fig, ax = plt.subplots()\n",
    "\n",
    "a = -13\n",
    "b = 5\n",
    "\n",
    "x = [i for i in range(a, b+1)]\n",
    "y = [func_of_the_random(a, b, i) for i in x]\n",
    "\n",
    "# Ось XOY и вспомогательные линиии\n",
    "if b < 0:\n",
    "    OXb = 1\n",
    "else:\n",
    "    OXb = b + 5\n",
    "    \n",
    "if a > 0:\n",
    "    OXa = -1\n",
    "else:\n",
    "    OXa = a - 5\n",
    "\n",
    "ax.hlines(0, OXa, OXb)\n",
    "ax.vlines(0, -0.1, 1.1)\n",
    "ax.hlines(1, OXa, OXb, linestyles=':', color='red')\n",
    "ax.vlines(a, -0.1, 1.1, linestyles='--')\n",
    "ax.vlines(b, -0.1, 1.1, linestyles='--')\n",
    "\n",
    "# Плотность распределения\n",
    "distribution = distribution_density(a, b)\n",
    "ax.hlines(distribution, a, b, color='green')\n",
    "\n",
    "# Функция распределения\n",
    "ax.plot(x, y, color='blue')\n",
    "ax.hlines(0, a - 5, a, colors='blue')\n",
    "ax.hlines(0, b, b + 5, colors='blue')\n",
    "\n",
    "plt.show()"
   ]
  },
  {
   "cell_type": "code",
   "execution_count": null,
   "metadata": {},
   "outputs": [],
   "source": []
  }
 ],
 "metadata": {
  "kernelspec": {
   "display_name": "Python 3",
   "language": "python",
   "name": "python3"
  },
  "language_info": {
   "codemirror_mode": {
    "name": "ipython",
    "version": 3
   },
   "file_extension": ".py",
   "mimetype": "text/x-python",
   "name": "python",
   "nbconvert_exporter": "python",
   "pygments_lexer": "ipython3",
   "version": "3.8.5"
  }
 },
 "nbformat": 4,
 "nbformat_minor": 4
}
