{
 "cells": [
  {
   "cell_type": "code",
   "execution_count": 8,
   "metadata": {},
   "outputs": [],
   "source": [
    "from scipy.stats import binom\n",
    "import matplotlib.pyplot as plt\n",
    "%matplotlib inline"
   ]
  },
  {
   "cell_type": "code",
   "execution_count": 9,
   "metadata": {},
   "outputs": [],
   "source": [
    "N = 90\n",
    "p = 0.13"
   ]
  },
  {
   "cell_type": "code",
   "execution_count": 22,
   "metadata": {},
   "outputs": [
    {
     "data": {
      "image/png": "[encoded data removed]",
      "text/plain": [
       "<Figure size 432x288 with 1 Axes>"
      ]
     },
     "metadata": {
      "needs_background": "light"
     },
     "output_type": "display_data"
    }
   ],
   "source": [
    "# binom_sim = binom.rvs(n=N, p=p, size=10)\n",
    "x = [i for i in range(0, N + 1)]\n",
    "distribution_density = binom.pmf(x, N, p)\n",
    "func = binom.cdf(x, N, p)\n",
    "\n",
    "plt.plot(x, distribution_density, color='green')\n",
    "plt.plot(x, func, color='blue')\n",
    "plt.show()"
   ]
  },
  {
   "cell_type": "code",
   "execution_count": null,
   "metadata": {},
   "outputs": [],
   "source": [
    "print(f\"Мат. ожидание:\\t\\t{N * p}\\nДисперсия:\\t\\t{N * p * (1 - p)}\\nСр.кв. отклонение:\\t{(N * p * (1 - p))**0.5}\\n\")\n",
    "print(f\"Мода:\\t {(N + 1) * p}\\nМедиана: {N * p + 1}\\n\")\n",
    "print(f\"Ассиметрия:\\t{((1 - 2 * p)/(N * p * (1 - p))**0.5)}\\nЭксцесс:\\t{ (1 - ) }\")"
   ]
  }
 ],
 "metadata": {
  "kernelspec": {
   "display_name": "Python 3",
   "language": "python",
   "name": "python3"
  },
  "language_info": {
   "codemirror_mode": {
    "name": "ipython",
    "version": 3
   },
   "file_extension": ".py",
   "mimetype": "text/x-python",
   "name": "python",
   "nbconvert_exporter": "python",
   "pygments_lexer": "ipython3",
   "version": "3.8.5"
  }
 },
 "nbformat": 4,
 "nbformat_minor": 4
}
