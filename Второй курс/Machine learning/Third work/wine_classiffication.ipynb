{
 "cells": [
  {
   "cell_type": "code",
   "execution_count": 1,
   "metadata": {},
   "outputs": [],
   "source": [
    "import seaborn as sns\n",
    "import matplotlib.pyplot as plt\n",
    "import numpy as np\n",
    "import pandas as pd\n",
    "from pylab import rcParams\n",
    "from sklearn.preprocessing import StandardScaler\n",
    "\n",
    "%matplotlib inline"
   ]
  },
  {
   "cell_type": "markdown",
   "metadata": {},
   "source": [
    "## Задание 1\n",
    "Изучить набор данных. Создать описание набора данных на русском языке. Описать признаки, используемые в наборе данных"
   ]
  },
  {
   "cell_type": "markdown",
   "metadata": {},
   "source": [
    "# Описание DataFrame\n",
    "\n",
    "Эти данные являются результатами химического анализа вин, выращенных в одном и том же регионе Италии, но полученных из трех разных сортов. Анализ определил количество 13 компонентов, обнаруженных в каждом из трех типов вин.\n",
    "\n",
    "## Атрибуты\n",
    "- Алкоголь\n",
    "- Яблочная кислота\n",
    "- Зола\n",
    "- Щелочность золы\n",
    "- Магний\n",
    "- Общие фенолы\n",
    "- Флавоноиды\n",
    "- Нефлаваноидные фенолы\n",
    "- Проантоцианы\n",
    "- Интенсивность цвета\n",
    "- Оттенок\n",
    "- OD280/OD315 разбавленных вин\n",
    "- Пролин"
   ]
  },
  {
   "cell_type": "code",
   "execution_count": 2,
   "metadata": {},
   "outputs": [],
   "source": [
    "cols_name = ['Type', 'Alcohol', 'Malic acid', 'Ash', 'Alcalinity of ash', 'Magnesium',\\\n",
    "             'Total phenols', 'Flavanoids', 'Nonflavanoid phenols', 'Proanthocyanins',\\\n",
    "             'Color intensity', 'Hue', 'OD280/OD315 of diluted wines', 'Proline']"
   ]
  },
  {
   "cell_type": "code",
   "execution_count": 3,
   "metadata": {
    "scrolled": false
   },
   "outputs": [
    {
     "name": "stdout",
     "output_type": "stream",
     "text": [
      "<class 'pandas.core.frame.DataFrame'>\n",
      "RangeIndex: 178 entries, 0 to 177\n",
      "Data columns (total 14 columns):\n",
      " #   Column                        Non-Null Count  Dtype  \n",
      "---  ------                        --------------  -----  \n",
      " 0   Type                          178 non-null    int64  \n",
      " 1   Alcohol                       178 non-null    float64\n",
      " 2   Malic acid                    178 non-null    float64\n",
      " 3   Ash                           178 non-null    float64\n",
      " 4   Alcalinity of ash             178 non-null    float64\n",
      " 5   Magnesium                     178 non-null    int64  \n",
      " 6   Total phenols                 178 non-null    float64\n",
      " 7   Flavanoids                    178 non-null    float64\n",
      " 8   Nonflavanoid phenols          178 non-null    float64\n",
      " 9   Proanthocyanins               178 non-null    float64\n",
      " 10  Color intensity               178 non-null    float64\n",
      " 11  Hue                           178 non-null    float64\n",
      " 12  OD280/OD315 of diluted wines  178 non-null    float64\n",
      " 13  Proline                       178 non-null    int64  \n",
      "dtypes: float64(11), int64(3)\n",
      "memory usage: 19.6 KB\n"
     ]
    }
   ],
   "source": [
    "df_wine = pd.read_csv('../data/wine.data.csv', header=None)\n",
    "df_wine.columns = cols_name\n",
    "df_wine.info()"
   ]
  },
  {
   "cell_type": "markdown",
   "metadata": {},
   "source": [
    "## Задание 2\n",
    "Удалите дубликаты строк в наборе данных; приведите размер набора данных до и после данной операции;"
   ]
  },
  {
   "cell_type": "code",
   "execution_count": 4,
   "metadata": {
    "scrolled": false
   },
   "outputs": [
    {
     "name": "stdout",
     "output_type": "stream",
     "text": [
      "<class 'pandas.core.frame.DataFrame'>\n",
      "Int64Index: 178 entries, 0 to 177\n",
      "Data columns (total 14 columns):\n",
      " #   Column                        Non-Null Count  Dtype  \n",
      "---  ------                        --------------  -----  \n",
      " 0   Type                          178 non-null    int64  \n",
      " 1   Alcohol                       178 non-null    float64\n",
      " 2   Malic acid                    178 non-null    float64\n",
      " 3   Ash                           178 non-null    float64\n",
      " 4   Alcalinity of ash             178 non-null    float64\n",
      " 5   Magnesium                     178 non-null    int64  \n",
      " 6   Total phenols                 178 non-null    float64\n",
      " 7   Flavanoids                    178 non-null    float64\n",
      " 8   Nonflavanoid phenols          178 non-null    float64\n",
      " 9   Proanthocyanins               178 non-null    float64\n",
      " 10  Color intensity               178 non-null    float64\n",
      " 11  Hue                           178 non-null    float64\n",
      " 12  OD280/OD315 of diluted wines  178 non-null    float64\n",
      " 13  Proline                       178 non-null    int64  \n",
      "dtypes: float64(11), int64(3)\n",
      "memory usage: 20.9 KB\n"
     ]
    }
   ],
   "source": [
    "df_wine.drop_duplicates(inplace=True)\n",
    "\n",
    "df_wine.info()"
   ]
  },
  {
   "cell_type": "markdown",
   "metadata": {},
   "source": [
    "## Задание 3\n",
    "Оцените сбалансированность данных по классам (постройте гистограмму). Используйте полученную информацию при выборе метрики оценки качества классификации (PR или ROC кривая)"
   ]
  },
  {
   "cell_type": "code",
   "execution_count": 5,
   "metadata": {},
   "outputs": [
    {
     "data": {
      "text/plain": [
       "<AxesSubplot:>"
      ]
     },
     "execution_count": 5,
     "metadata": {},
     "output_type": "execute_result"
    },
    {
     "data": {
      "image/png": "[encoded data removed]",
      "text/plain": [
       "<Figure size 432x288 with 1 Axes>"
      ]
     },
     "metadata": {
      "needs_background": "light"
     },
     "output_type": "display_data"
    }
   ],
   "source": [
    "df_wine['Type'].hist()"
   ]
  },
  {
   "cell_type": "markdown",
   "metadata": {},
   "source": [
    "Данные сбалансированны"
   ]
  },
  {
   "cell_type": "markdown",
   "metadata": {},
   "source": [
    "## Задание 4\n",
    "Выполните масштабирование количественных признаков; Постройте диаграммы BoxPlot для признаков до и после масштабирования. Выберите способ масштабирования (например, нормализацию или стандартизацию);"
   ]
  },
  {
   "cell_type": "code",
   "execution_count": 6,
   "metadata": {},
   "outputs": [
    {
     "data": {
      "text/plain": [
       "(array([ 1,  2,  3,  4,  5,  6,  7,  8,  9, 10, 11, 12, 13, 14]),\n",
       " [Text(1, 0, 'Type'),\n",
       "  Text(2, 0, 'Alcohol'),\n",
       "  Text(3, 0, 'Malic acid'),\n",
       "  Text(4, 0, 'Ash'),\n",
       "  Text(5, 0, 'Alcalinity of ash'),\n",
       "  Text(6, 0, 'Magnesium'),\n",
       "  Text(7, 0, 'Total phenols'),\n",
       "  Text(8, 0, 'Flavanoids'),\n",
       "  Text(9, 0, 'Nonflavanoid phenols'),\n",
       "  Text(10, 0, 'Proanthocyanins'),\n",
       "  Text(11, 0, 'Color intensity'),\n",
       "  Text(12, 0, 'Hue'),\n",
       "  Text(13, 0, 'OD280/OD315 of diluted wines'),\n",
       "  Text(14, 0, 'Proline')])"
      ]
     },
     "execution_count": 6,
     "metadata": {},
     "output_type": "execute_result"
    },
    {
     "data": {
      "image/png": "[encoded data removed]",
      "text/plain": [
       "<Figure size 864x864 with 1 Axes>"
      ]
     },
     "metadata": {
      "needs_background": "light"
     },
     "output_type": "display_data"
    }
   ],
   "source": [
    "rcParams['figure.figsize'] = 12, 12\n",
    "df_wine.boxplot()\n",
    "plt.xticks(rotation=90)"
   ]
  },
  {
   "cell_type": "code",
   "execution_count": 7,
   "metadata": {},
   "outputs": [
    {
     "data": {
      "text/plain": [
       "(array([ 1,  2,  3,  4,  5,  6,  7,  8,  9, 10, 11, 12, 13, 14]),\n",
       " [Text(1, 0, 'Alcohol'),\n",
       "  Text(2, 0, 'Malic acid'),\n",
       "  Text(3, 0, 'Ash'),\n",
       "  Text(4, 0, 'Alcalinity of ash'),\n",
       "  Text(5, 0, 'Magnesium'),\n",
       "  Text(6, 0, 'Total phenols'),\n",
       "  Text(7, 0, 'Flavanoids'),\n",
       "  Text(8, 0, 'Nonflavanoid phenols'),\n",
       "  Text(9, 0, 'Proanthocyanins'),\n",
       "  Text(10, 0, 'Color intensity'),\n",
       "  Text(11, 0, 'Hue'),\n",
       "  Text(12, 0, 'OD280/OD315 of diluted wines'),\n",
       "  Text(13, 0, 'Proline'),\n",
       "  Text(14, 0, 'Type')])"
      ]
     },
     "execution_count": 7,
     "metadata": {},
     "output_type": "execute_result"
    },
    {
     "data": {
      "image/png": "[encoded data removed]",
      "text/plain": [
       "<Figure size 864x864 with 1 Axes>"
      ]
     },
     "metadata": {
      "needs_background": "light"
     },
     "output_type": "display_data"
    }
   ],
   "source": [
    "scaler = StandardScaler()\n",
    "\n",
    "df_wine_scaled = scaler.fit_transform(df_wine[cols_name[1:]])\n",
    "df_wine_scaled = pd.DataFrame(df_wine_scaled, columns=df_wine.columns[1:])\n",
    "\n",
    "\n",
    "df_wine_scaled['Type'] = df_wine.Type\n",
    "df_wine_scaled.boxplot()\n",
    "plt.xticks(rotation=90)"
   ]
  },
  {
   "cell_type": "markdown",
   "metadata": {},
   "source": [
    "## Задание 6\n",
    "Оцените корреляцию между признаков и удалите те признаки, которые коррелируют с наибольшим числом других (удалять признаки нужно только для линейных методов классификации);"
   ]
  },
  {
   "cell_type": "code",
   "execution_count": 8,
   "metadata": {},
   "outputs": [
    {
     "name": "stdout",
     "output_type": "stream",
     "text": [
      "Alcohol                       :  -0.328222\n",
      "Malic acid                    :   0.437776\n",
      "Ash                           : weak corr!!!\n",
      "Alcalinity of ash             :   0.517859\n",
      "Magnesium                     : weak corr!!!\n",
      "Total phenols                 :  -0.719163\n",
      "Flavanoids                    :  -0.847498\n",
      "Nonflavanoid phenols          :   0.489109\n",
      "Proanthocyanins               :  -0.499130\n",
      "Color intensity               :   0.265668\n",
      "Hue                           :  -0.617369\n",
      "OD280/OD315 of diluted wines  :  -0.788230\n",
      "Proline                       :  -0.633717\n",
      "Type                          :   1.000000\n"
     ]
    }
   ],
   "source": [
    "for name, val in zip(df_wine_scaled.columns, df_wine_scaled.corr()['Type']):\n",
    "    print(f\"{name:<30}: \", end='')\n",
    "    print(f'{val:>10.6f}') if abs(val) > 0.25 else print('weak corr!!!')"
   ]
  },
  {
   "cell_type": "markdown",
   "metadata": {},
   "source": [
    "Данные столбцов 'Ash' и 'Magnesium' плохо коррелируют с целевой переменной 'Type'"
   ]
  },
  {
   "cell_type": "code",
   "execution_count": 9,
   "metadata": {},
   "outputs": [
    {
     "data": {
      "text/html": [
       "<div>\n",
       "<style scoped>\n",
       "    .dataframe tbody tr th:only-of-type {\n",
       "        vertical-align: middle;\n",
       "    }\n",
       "\n",
       "    .dataframe tbody tr th {\n",
       "        vertical-align: top;\n",
       "    }\n",
       "\n",
       "    .dataframe thead th {\n",
       "        text-align: right;\n",
       "    }\n",
       "</style>\n",
       "<table border=\"1\" class=\"dataframe\">\n",
       "  <thead>\n",
       "    <tr style=\"text-align: right;\">\n",
       "      <th></th>\n",
       "      <th>Alcohol</th>\n",
       "      <th>Malic acid</th>\n",
       "      <th>Alcalinity of ash</th>\n",
       "      <th>Total phenols</th>\n",
       "      <th>Flavanoids</th>\n",
       "      <th>Nonflavanoid phenols</th>\n",
       "      <th>Proanthocyanins</th>\n",
       "      <th>Color intensity</th>\n",
       "      <th>Hue</th>\n",
       "      <th>OD280/OD315 of diluted wines</th>\n",
       "      <th>Proline</th>\n",
       "      <th>Type</th>\n",
       "    </tr>\n",
       "  </thead>\n",
       "  <tbody>\n",
       "    <tr>\n",
       "      <th>0</th>\n",
       "      <td>1.518613</td>\n",
       "      <td>-0.562250</td>\n",
       "      <td>-1.169593</td>\n",
       "      <td>0.808997</td>\n",
       "      <td>1.034819</td>\n",
       "      <td>-0.659563</td>\n",
       "      <td>1.224884</td>\n",
       "      <td>0.251717</td>\n",
       "      <td>0.362177</td>\n",
       "      <td>1.847920</td>\n",
       "      <td>1.013009</td>\n",
       "      <td>1</td>\n",
       "    </tr>\n",
       "    <tr>\n",
       "      <th>1</th>\n",
       "      <td>0.246290</td>\n",
       "      <td>-0.499413</td>\n",
       "      <td>-2.490847</td>\n",
       "      <td>0.568648</td>\n",
       "      <td>0.733629</td>\n",
       "      <td>-0.820719</td>\n",
       "      <td>-0.544721</td>\n",
       "      <td>-0.293321</td>\n",
       "      <td>0.406051</td>\n",
       "      <td>1.113449</td>\n",
       "      <td>0.965242</td>\n",
       "      <td>1</td>\n",
       "    </tr>\n",
       "    <tr>\n",
       "      <th>2</th>\n",
       "      <td>0.196879</td>\n",
       "      <td>0.021231</td>\n",
       "      <td>-0.268738</td>\n",
       "      <td>0.808997</td>\n",
       "      <td>1.215533</td>\n",
       "      <td>-0.498407</td>\n",
       "      <td>2.135968</td>\n",
       "      <td>0.269020</td>\n",
       "      <td>0.318304</td>\n",
       "      <td>0.788587</td>\n",
       "      <td>1.395148</td>\n",
       "      <td>1</td>\n",
       "    </tr>\n",
       "    <tr>\n",
       "      <th>3</th>\n",
       "      <td>1.691550</td>\n",
       "      <td>-0.346811</td>\n",
       "      <td>-0.809251</td>\n",
       "      <td>2.491446</td>\n",
       "      <td>1.466525</td>\n",
       "      <td>-0.981875</td>\n",
       "      <td>1.032155</td>\n",
       "      <td>1.186068</td>\n",
       "      <td>-0.427544</td>\n",
       "      <td>1.184071</td>\n",
       "      <td>2.334574</td>\n",
       "      <td>1</td>\n",
       "    </tr>\n",
       "    <tr>\n",
       "      <th>4</th>\n",
       "      <td>0.295700</td>\n",
       "      <td>0.227694</td>\n",
       "      <td>0.451946</td>\n",
       "      <td>0.808997</td>\n",
       "      <td>0.663351</td>\n",
       "      <td>0.226796</td>\n",
       "      <td>0.401404</td>\n",
       "      <td>-0.319276</td>\n",
       "      <td>0.362177</td>\n",
       "      <td>0.449601</td>\n",
       "      <td>-0.037874</td>\n",
       "      <td>1</td>\n",
       "    </tr>\n",
       "    <tr>\n",
       "      <th>...</th>\n",
       "      <td>...</td>\n",
       "      <td>...</td>\n",
       "      <td>...</td>\n",
       "      <td>...</td>\n",
       "      <td>...</td>\n",
       "      <td>...</td>\n",
       "      <td>...</td>\n",
       "      <td>...</td>\n",
       "      <td>...</td>\n",
       "      <td>...</td>\n",
       "      <td>...</td>\n",
       "      <td>...</td>\n",
       "    </tr>\n",
       "    <tr>\n",
       "      <th>173</th>\n",
       "      <td>0.876275</td>\n",
       "      <td>2.974543</td>\n",
       "      <td>0.301803</td>\n",
       "      <td>-0.985614</td>\n",
       "      <td>-1.424900</td>\n",
       "      <td>1.274310</td>\n",
       "      <td>-0.930179</td>\n",
       "      <td>1.142811</td>\n",
       "      <td>-1.392758</td>\n",
       "      <td>-1.231206</td>\n",
       "      <td>-0.021952</td>\n",
       "      <td>3</td>\n",
       "    </tr>\n",
       "    <tr>\n",
       "      <th>174</th>\n",
       "      <td>0.493343</td>\n",
       "      <td>1.412609</td>\n",
       "      <td>1.052516</td>\n",
       "      <td>-0.793334</td>\n",
       "      <td>-1.284344</td>\n",
       "      <td>0.549108</td>\n",
       "      <td>-0.316950</td>\n",
       "      <td>0.969783</td>\n",
       "      <td>-1.129518</td>\n",
       "      <td>-1.485445</td>\n",
       "      <td>0.009893</td>\n",
       "      <td>3</td>\n",
       "    </tr>\n",
       "    <tr>\n",
       "      <th>175</th>\n",
       "      <td>0.332758</td>\n",
       "      <td>1.744744</td>\n",
       "      <td>0.151661</td>\n",
       "      <td>-1.129824</td>\n",
       "      <td>-1.344582</td>\n",
       "      <td>0.549108</td>\n",
       "      <td>-0.422075</td>\n",
       "      <td>2.224236</td>\n",
       "      <td>-1.612125</td>\n",
       "      <td>-1.485445</td>\n",
       "      <td>0.280575</td>\n",
       "      <td>3</td>\n",
       "    </tr>\n",
       "    <tr>\n",
       "      <th>176</th>\n",
       "      <td>0.209232</td>\n",
       "      <td>0.227694</td>\n",
       "      <td>0.151661</td>\n",
       "      <td>-1.033684</td>\n",
       "      <td>-1.354622</td>\n",
       "      <td>1.354888</td>\n",
       "      <td>-0.229346</td>\n",
       "      <td>1.834923</td>\n",
       "      <td>-1.568252</td>\n",
       "      <td>-1.400699</td>\n",
       "      <td>0.296498</td>\n",
       "      <td>3</td>\n",
       "    </tr>\n",
       "    <tr>\n",
       "      <th>177</th>\n",
       "      <td>1.395086</td>\n",
       "      <td>1.583165</td>\n",
       "      <td>1.502943</td>\n",
       "      <td>-0.392751</td>\n",
       "      <td>-1.274305</td>\n",
       "      <td>1.596623</td>\n",
       "      <td>-0.422075</td>\n",
       "      <td>1.791666</td>\n",
       "      <td>-1.524378</td>\n",
       "      <td>-1.428948</td>\n",
       "      <td>-0.595160</td>\n",
       "      <td>3</td>\n",
       "    </tr>\n",
       "  </tbody>\n",
       "</table>\n",
       "<p>178 rows × 12 columns</p>\n",
       "</div>"
      ],
      "text/plain": [
       "      Alcohol  Malic acid  Alcalinity of ash  Total phenols  Flavanoids  \\\n",
       "0    1.518613   -0.562250          -1.169593       0.808997    1.034819   \n",
       "1    0.246290   -0.499413          -2.490847       0.568648    0.733629   \n",
       "2    0.196879    0.021231          -0.268738       0.808997    1.215533   \n",
       "3    1.691550   -0.346811          -0.809251       2.491446    1.466525   \n",
       "4    0.295700    0.227694           0.451946       0.808997    0.663351   \n",
       "..        ...         ...                ...            ...         ...   \n",
       "173  0.876275    2.974543           0.301803      -0.985614   -1.424900   \n",
       "174  0.493343    1.412609           1.052516      -0.793334   -1.284344   \n",
       "175  0.332758    1.744744           0.151661      -1.129824   -1.344582   \n",
       "176  0.209232    0.227694           0.151661      -1.033684   -1.354622   \n",
       "177  1.395086    1.583165           1.502943      -0.392751   -1.274305   \n",
       "\n",
       "     Nonflavanoid phenols  Proanthocyanins  Color intensity       Hue  \\\n",
       "0               -0.659563         1.224884         0.251717  0.362177   \n",
       "1               -0.820719        -0.544721        -0.293321  0.406051   \n",
       "2               -0.498407         2.135968         0.269020  0.318304   \n",
       "3               -0.981875         1.032155         1.186068 -0.427544   \n",
       "4                0.226796         0.401404        -0.319276  0.362177   \n",
       "..                    ...              ...              ...       ...   \n",
       "173              1.274310        -0.930179         1.142811 -1.392758   \n",
       "174              0.549108        -0.316950         0.969783 -1.129518   \n",
       "175              0.549108        -0.422075         2.224236 -1.612125   \n",
       "176              1.354888        -0.229346         1.834923 -1.568252   \n",
       "177              1.596623        -0.422075         1.791666 -1.524378   \n",
       "\n",
       "     OD280/OD315 of diluted wines   Proline  Type  \n",
       "0                        1.847920  1.013009     1  \n",
       "1                        1.113449  0.965242     1  \n",
       "2                        0.788587  1.395148     1  \n",
       "3                        1.184071  2.334574     1  \n",
       "4                        0.449601 -0.037874     1  \n",
       "..                            ...       ...   ...  \n",
       "173                     -1.231206 -0.021952     3  \n",
       "174                     -1.485445  0.009893     3  \n",
       "175                     -1.485445  0.280575     3  \n",
       "176                     -1.400699  0.296498     3  \n",
       "177                     -1.428948 -0.595160     3  \n",
       "\n",
       "[178 rows x 12 columns]"
      ]
     },
     "execution_count": 9,
     "metadata": {},
     "output_type": "execute_result"
    }
   ],
   "source": [
    "df_wine_scaled_lin = df_wine_scaled.drop(axis=0, columns=['Ash', 'Magnesium'])\n",
    "df_wine_scaled_lin"
   ]
  },
  {
   "cell_type": "markdown",
   "metadata": {},
   "source": [
    "## Задание 8\n",
    "Решите поставленную задачу классификации в соответствии с заданием. "
   ]
  },
  {
   "cell_type": "code",
   "execution_count": 10,
   "metadata": {},
   "outputs": [],
   "source": [
    "from sklearn.model_selection import GridSearchCV, train_test_split\n",
    "from sklearn.neighbors import KNeighborsClassifier\n",
    "from sklearn.linear_model import Perceptron\n",
    "from sklearn.metrics import accuracy_score"
   ]
  },
  {
   "cell_type": "markdown",
   "metadata": {},
   "source": [
    "### Подготовка данных"
   ]
  },
  {
   "cell_type": "code",
   "execution_count": 11,
   "metadata": {},
   "outputs": [],
   "source": [
    "# разделим полученные данные на данные для обучения и теста\n",
    "X = np.array(df_wine_scaled_lin.drop('Type', axis=1))\n",
    "y = np.array(df_wine_scaled_lin['Type']) \n",
    "\n",
    "X_train, X_test, y_train, y_test = train_test_split(X, y, test_size = 0.5, random_state = 0)"
   ]
  },
  {
   "cell_type": "markdown",
   "metadata": {},
   "source": [
    "### KNeighborsClassifier"
   ]
  },
  {
   "cell_type": "code",
   "execution_count": 12,
   "metadata": {},
   "outputs": [
    {
     "data": {
      "text/plain": [
       "GridSearchCV(estimator=KNeighborsClassifier(),\n",
       "             param_grid={'n_neighbors': range(5, 12)})"
      ]
     },
     "execution_count": 12,
     "metadata": {},
     "output_type": "execute_result"
    }
   ],
   "source": [
    "knc = KNeighborsClassifier()\n",
    "params = {\n",
    "    'n_neighbors': range(5, 12),\n",
    "}\n",
    "\n",
    "knc_grid = GridSearchCV(knc, param_grid=params)\n",
    "knc_grid.fit(X_train, y_train)"
   ]
  },
  {
   "cell_type": "code",
   "execution_count": 13,
   "metadata": {},
   "outputs": [
    {
     "name": "stdout",
     "output_type": "stream",
     "text": [
      "best train score: 1.0000\t at neighbors: 5\n"
     ]
    }
   ],
   "source": [
    "best_nieghbors = knc_grid.best_estimator_.n_neighbors\n",
    "best_score = knc_grid.best_score_\n",
    "print(f'best train score: {best_score:.4f}\\t at neighbors: {best_nieghbors}')"
   ]
  },
  {
   "cell_type": "code",
   "execution_count": 14,
   "metadata": {},
   "outputs": [
    {
     "data": {
      "text/plain": [
       "KNeighborsClassifier()"
      ]
     },
     "execution_count": 14,
     "metadata": {},
     "output_type": "execute_result"
    }
   ],
   "source": [
    "knc = KNeighborsClassifier(n_neighbors=best_nieghbors)\n",
    "knc.fit(X_train, y_train)"
   ]
  },
  {
   "cell_type": "code",
   "execution_count": 15,
   "metadata": {},
   "outputs": [
    {
     "name": "stdout",
     "output_type": "stream",
     "text": [
      "Точность на test: 0.94382\n",
      "Точность на train: 1.00000\n"
     ]
    }
   ],
   "source": [
    "print(f'Точность на test: {accuracy_score(y_test, knc.predict(X_test)):.5f}')\n",
    "print(f'Точность на train: {accuracy_score(y_train, knc.predict(X_train)):.5f}')"
   ]
  },
  {
   "cell_type": "markdown",
   "metadata": {},
   "source": [
    "Значения незначительно различаются (Предсказание на train немного больше чем на test)"
   ]
  },
  {
   "cell_type": "markdown",
   "metadata": {},
   "source": [
    "### Perceptron"
   ]
  },
  {
   "cell_type": "code",
   "execution_count": 16,
   "metadata": {},
   "outputs": [
    {
     "data": {
      "text/plain": [
       "GridSearchCV(estimator=Perceptron(),\n",
       "             param_grid={'alpha': array([1.0e-05, 6.0e-05, 1.1e-04, 1.6e-04, 2.1e-04, 2.6e-04, 3.1e-04,\n",
       "       3.6e-04, 4.1e-04, 4.6e-04, 5.1e-04, 5.6e-04, 6.1e-04, 6.6e-04,\n",
       "       7.1e-04, 7.6e-04, 8.1e-04, 8.6e-04, 9.1e-04, 9.6e-04])})"
      ]
     },
     "execution_count": 16,
     "metadata": {},
     "output_type": "execute_result"
    }
   ],
   "source": [
    "per = Perceptron()\n",
    "params = {\n",
    "    'alpha' : np.arange(0.00001, 0.001, 0.00005)\n",
    "}\n",
    "\n",
    "per_grid = GridSearchCV(per, param_grid=params)\n",
    "per_grid.fit(X_train, y_train)"
   ]
  },
  {
   "cell_type": "code",
   "execution_count": 17,
   "metadata": {},
   "outputs": [
    {
     "name": "stdout",
     "output_type": "stream",
     "text": [
      "best train score: 0.9771\t at alpha: 1e-05\n"
     ]
    }
   ],
   "source": [
    "best_alpha = per_grid.best_estimator_.alpha\n",
    "best_score = per_grid.best_score_\n",
    "\n",
    "print(f'best train score: {best_score:.4f}\\t at alpha: {best_alpha}')"
   ]
  },
  {
   "cell_type": "code",
   "execution_count": 18,
   "metadata": {},
   "outputs": [
    {
     "data": {
      "text/plain": [
       "Perceptron(alpha=1e-05)"
      ]
     },
     "execution_count": 18,
     "metadata": {},
     "output_type": "execute_result"
    }
   ],
   "source": [
    "per = Perceptron(alpha=best_alpha)\n",
    "per.fit(X_train, y_train)"
   ]
  },
  {
   "cell_type": "code",
   "execution_count": 19,
   "metadata": {},
   "outputs": [
    {
     "name": "stdout",
     "output_type": "stream",
     "text": [
      "Точность на test: 0.89888\n",
      "Точность на train: 1.00000\n"
     ]
    }
   ],
   "source": [
    "print(f'Точность на test: {accuracy_score(y_test, per.predict(X_test)):.5f}')\n",
    "print(f'Точность на train: {accuracy_score(y_train, per.predict(X_train)):.5f}')"
   ]
  },
  {
   "cell_type": "markdown",
   "metadata": {},
   "source": [
    "Видно, что точность предсказания на train несильно отличается от test, что говорит об отсутсвии переобучения"
   ]
  },
  {
   "cell_type": "markdown",
   "metadata": {},
   "source": [
    "## Задание 9\n",
    "Сравните кривые для классификаторов, указанных в задании, сделайте выводы"
   ]
  },
  {
   "cell_type": "code",
   "execution_count": 20,
   "metadata": {},
   "outputs": [],
   "source": [
    "from sklearn.metrics import auc, roc_curve, precision_recall_curve, average_precision_score\n",
    "from sklearn.calibration import CalibratedClassifierCV\n",
    "import scikitplot as skplt"
   ]
  },
  {
   "cell_type": "code",
   "execution_count": 21,
   "metadata": {
    "scrolled": true
   },
   "outputs": [
    {
     "data": {
      "text/plain": [
       "array([[1. , 0. , 0. ],\n",
       "       [0. , 0. , 1. ],\n",
       "       [0.2, 0.8, 0. ],\n",
       "       [1. , 0. , 0. ],\n",
       "       [0.4, 0.6, 0. ],\n",
       "       [0.2, 0.8, 0. ],\n",
       "       [1. , 0. , 0. ],\n",
       "       [0. , 0. , 1. ],\n",
       "       [0. , 1. , 0. ],\n",
       "       [0. , 1. , 0. ],\n",
       "       [0. , 0. , 1. ],\n",
       "       [0. , 0. , 1. ],\n",
       "       [1. , 0. , 0. ],\n",
       "       [0.4, 0.6, 0. ],\n",
       "       [0. , 0. , 1. ],\n",
       "       [0. , 1. , 0. ],\n",
       "       [1. , 0. , 0. ],\n",
       "       [1. , 0. , 0. ],\n",
       "       [0. , 0.6, 0.4],\n",
       "       [1. , 0. , 0. ],\n",
       "       [0.6, 0.4, 0. ],\n",
       "       [1. , 0. , 0. ],\n",
       "       [0.8, 0.2, 0. ],\n",
       "       [0. , 1. , 0. ],\n",
       "       [0. , 0.8, 0.2],\n",
       "       [0. , 1. , 0. ],\n",
       "       [0. , 1. , 0. ],\n",
       "       [0. , 1. , 0. ],\n",
       "       [0. , 1. , 0. ],\n",
       "       [0. , 0. , 1. ],\n",
       "       [1. , 0. , 0. ],\n",
       "       [1. , 0. , 0. ],\n",
       "       [0. , 0.8, 0.2],\n",
       "       [1. , 0. , 0. ],\n",
       "       [1. , 0. , 0. ],\n",
       "       [1. , 0. , 0. ],\n",
       "       [0. , 0. , 1. ],\n",
       "       [0. , 1. , 0. ],\n",
       "       [0. , 1. , 0. ],\n",
       "       [0. , 0. , 1. ],\n",
       "       [0.8, 0.2, 0. ],\n",
       "       [1. , 0. , 0. ],\n",
       "       [0. , 1. , 0. ],\n",
       "       [0. , 1. , 0. ],\n",
       "       [0. , 1. , 0. ],\n",
       "       [1. , 0. , 0. ],\n",
       "       [0. , 0. , 1. ],\n",
       "       [0.4, 0.6, 0. ],\n",
       "       [0. , 0. , 1. ],\n",
       "       [1. , 0. , 0. ],\n",
       "       [0. , 0. , 1. ],\n",
       "       [0. , 0. , 1. ],\n",
       "       [1. , 0. , 0. ],\n",
       "       [0. , 0. , 1. ],\n",
       "       [1. , 0. , 0. ],\n",
       "       [0. , 1. , 0. ],\n",
       "       [0. , 0. , 1. ],\n",
       "       [0. , 0. , 1. ],\n",
       "       [0.6, 0.4, 0. ],\n",
       "       [0. , 0. , 1. ],\n",
       "       [0. , 0. , 1. ],\n",
       "       [1. , 0. , 0. ],\n",
       "       [0. , 0. , 1. ],\n",
       "       [0. , 0.2, 0.8],\n",
       "       [0. , 1. , 0. ],\n",
       "       [0. , 0.2, 0.8],\n",
       "       [0. , 0. , 1. ],\n",
       "       [0.4, 0.6, 0. ],\n",
       "       [1. , 0. , 0. ],\n",
       "       [0. , 0.8, 0.2],\n",
       "       [0. , 1. , 0. ],\n",
       "       [0. , 0.8, 0.2],\n",
       "       [0.8, 0.2, 0. ],\n",
       "       [1. , 0. , 0. ],\n",
       "       [0. , 1. , 0. ],\n",
       "       [0.6, 0.4, 0. ],\n",
       "       [0. , 0. , 1. ],\n",
       "       [0. , 0. , 1. ],\n",
       "       [0.2, 0.8, 0. ],\n",
       "       [0. , 1. , 0. ],\n",
       "       [0. , 1. , 0. ],\n",
       "       [0. , 0. , 1. ],\n",
       "       [0. , 0. , 1. ],\n",
       "       [1. , 0. , 0. ],\n",
       "       [0. , 0. , 1. ],\n",
       "       [0. , 1. , 0. ],\n",
       "       [0. , 1. , 0. ],\n",
       "       [0. , 1. , 0. ],\n",
       "       [0.2, 0.8, 0. ]])"
      ]
     },
     "execution_count": 21,
     "metadata": {},
     "output_type": "execute_result"
    }
   ],
   "source": [
    "prob_knc = knc.predict_proba(X_test)\n",
    "prob_knc"
   ]
  },
  {
   "cell_type": "code",
   "execution_count": 22,
   "metadata": {
    "scrolled": true
   },
   "outputs": [
    {
     "data": {
      "text/plain": [
       "array([[9.99786753e-01, 1.17329387e-08, 2.13235762e-04],\n",
       "       [8.82915842e-04, 1.22569883e-09, 9.99117083e-01],\n",
       "       [9.51887168e-02, 9.04811265e-01, 1.79871673e-08],\n",
       "       [9.99995261e-01, 9.36044888e-09, 4.73000144e-06],\n",
       "       [9.34715722e-01, 1.32216525e-05, 6.52710565e-02],\n",
       "       [3.46282735e-01, 6.53717265e-01, 2.31420306e-11],\n",
       "       [9.99987320e-01, 3.77831401e-09, 1.26764486e-05],\n",
       "       [4.79276695e-04, 1.00973178e-06, 9.99519714e-01],\n",
       "       [1.32511818e-03, 9.98673952e-01, 9.30051272e-07],\n",
       "       [1.40797580e-05, 9.99979921e-01, 5.99945631e-06],\n",
       "       [6.39371377e-03, 2.07578079e-05, 9.93585528e-01],\n",
       "       [1.92524913e-03, 2.65216038e-07, 9.98074486e-01],\n",
       "       [9.99997511e-01, 8.64332743e-13, 2.48859625e-06],\n",
       "       [8.52497556e-01, 1.47502425e-01, 1.91946910e-08],\n",
       "       [7.15511838e-03, 3.47936394e-08, 9.92844847e-01],\n",
       "       [1.41561898e-04, 9.99858438e-01, 3.96969804e-10],\n",
       "       [9.99994524e-01, 5.38434790e-06, 9.13571130e-08],\n",
       "       [9.99999253e-01, 5.97131344e-15, 7.47175814e-07],\n",
       "       [2.22832081e-06, 4.96816003e-01, 5.03181769e-01],\n",
       "       [9.99999548e-01, 4.48745181e-07, 3.48433902e-09],\n",
       "       [4.74486124e-01, 5.25513872e-01, 3.98534176e-09],\n",
       "       [9.99274598e-01, 6.54038288e-04, 7.13638561e-05],\n",
       "       [9.97934051e-01, 2.05886311e-03, 7.08580939e-06],\n",
       "       [5.12802996e-02, 9.48719572e-01, 1.28398952e-07],\n",
       "       [1.36978520e-06, 9.95103537e-01, 4.89509310e-03],\n",
       "       [1.71087250e-02, 9.81181452e-01, 1.70982307e-03],\n",
       "       [2.43527624e-02, 9.75615050e-01, 3.21877439e-05],\n",
       "       [3.16202434e-05, 9.99967893e-01, 4.87219586e-07],\n",
       "       [4.71685804e-05, 9.99947332e-01, 5.49950711e-06],\n",
       "       [1.19287957e-03, 6.44484681e-09, 9.98807114e-01],\n",
       "       [9.99995547e-01, 1.01347112e-07, 4.35116422e-06],\n",
       "       [9.99987285e-01, 6.68387546e-10, 1.27142029e-05],\n",
       "       [3.85117268e-02, 5.97247710e-01, 3.64240563e-01],\n",
       "       [8.59720597e-01, 1.21347396e-12, 1.40279403e-01],\n",
       "       [9.99990493e-01, 2.80969746e-09, 9.50461122e-06],\n",
       "       [9.99984695e-01, 1.48834687e-05, 4.21846077e-07],\n",
       "       [2.02688917e-03, 5.67085664e-05, 9.97916402e-01],\n",
       "       [1.35444501e-05, 9.99474846e-01, 5.11609241e-04],\n",
       "       [5.19822783e-03, 9.94798561e-01, 3.21107579e-06],\n",
       "       [1.95666571e-02, 7.06213404e-09, 9.80433336e-01],\n",
       "       [9.81318886e-01, 1.86811065e-02, 7.97014848e-09],\n",
       "       [9.99999908e-01, 5.61297500e-08, 3.59755861e-08],\n",
       "       [2.67555401e-02, 9.73244433e-01, 2.69787415e-08],\n",
       "       [5.26937929e-04, 9.99330901e-01, 1.42161229e-04],\n",
       "       [1.13939368e-05, 9.99988000e-01, 6.05866601e-07],\n",
       "       [9.99625586e-01, 3.11033350e-08, 3.74383261e-04],\n",
       "       [1.65260562e-05, 2.64457742e-03, 9.97338897e-01],\n",
       "       [6.30126721e-01, 3.69872696e-01, 5.83124587e-07],\n",
       "       [9.88352667e-03, 3.95211404e-08, 9.90116434e-01],\n",
       "       [9.99957317e-01, 8.60308513e-11, 4.26832583e-05],\n",
       "       [7.44404754e-04, 4.58930394e-04, 9.98796665e-01],\n",
       "       [4.11831478e-04, 2.27967017e-04, 9.99360202e-01],\n",
       "       [9.99997752e-01, 2.20624848e-06, 4.20534240e-08],\n",
       "       [9.39651030e-02, 9.32613491e-14, 9.06034897e-01],\n",
       "       [9.99919357e-01, 8.06413066e-05, 1.42151098e-09],\n",
       "       [7.44119417e-04, 9.99255738e-01, 1.42355678e-07],\n",
       "       [2.68563861e-02, 1.32139894e-12, 9.73143614e-01],\n",
       "       [1.09291237e-02, 8.56315360e-06, 9.89062313e-01],\n",
       "       [3.95762576e-01, 6.04237414e-01, 9.83249083e-09],\n",
       "       [8.72092475e-05, 9.39252286e-02, 9.05987562e-01],\n",
       "       [9.08078285e-03, 1.89175674e-10, 9.90919217e-01],\n",
       "       [9.99825660e-01, 3.27823903e-06, 1.71061671e-04],\n",
       "       [1.59163012e-03, 3.22926964e-02, 9.66115673e-01],\n",
       "       [2.92015823e-06, 4.32433869e-01, 5.67563211e-01],\n",
       "       [3.15538317e-03, 9.96844600e-01, 1.64331030e-08],\n",
       "       [3.21920584e-04, 2.42028638e-01, 7.57649441e-01],\n",
       "       [1.41634765e-03, 6.36927760e-05, 9.98519960e-01],\n",
       "       [9.77192556e-03, 9.79497929e-01, 1.07301457e-02],\n",
       "       [9.99999811e-01, 1.84912356e-07, 3.60861349e-09],\n",
       "       [4.82179973e-06, 5.53713375e-01, 4.46281803e-01],\n",
       "       [2.58819149e-01, 7.41180851e-01, 6.63615331e-12],\n",
       "       [7.15332672e-04, 8.76926883e-01, 1.22357784e-01],\n",
       "       [9.79566109e-01, 9.82408542e-07, 2.04329090e-02],\n",
       "       [9.99999993e-01, 5.84270122e-11, 6.77213598e-09],\n",
       "       [9.71294355e-02, 9.02870564e-01, 2.18211986e-11],\n",
       "       [9.55044566e-01, 4.49554335e-02, 1.61095146e-10],\n",
       "       [8.47518312e-06, 3.67041323e-06, 9.99987854e-01],\n",
       "       [3.55209299e-03, 2.39563642e-10, 9.96447907e-01],\n",
       "       [7.01935359e-01, 2.98064621e-01, 2.04279661e-08],\n",
       "       [1.24771012e-02, 9.87520546e-01, 2.35245264e-06],\n",
       "       [9.44978069e-04, 9.99054650e-01, 3.72423037e-07],\n",
       "       [6.14533542e-03, 4.24225469e-10, 9.93854664e-01],\n",
       "       [1.94860629e-05, 1.04812730e-01, 8.95167784e-01],\n",
       "       [9.99999839e-01, 1.43023039e-07, 1.82662338e-08],\n",
       "       [8.97764495e-03, 6.91285050e-10, 9.91022354e-01],\n",
       "       [1.03863205e-03, 9.98961334e-01, 3.42572038e-08],\n",
       "       [3.88501075e-06, 9.99994622e-01, 1.49344940e-06],\n",
       "       [6.44980791e-02, 9.35355011e-01, 1.46909945e-04],\n",
       "       [8.11654075e-01, 1.88345885e-01, 4.05620487e-08]])"
      ]
     },
     "execution_count": 22,
     "metadata": {},
     "output_type": "execute_result"
    }
   ],
   "source": [
    "prob_per = per._predict_proba_lr(X_test)\n",
    "prob_per"
   ]
  },
  {
   "cell_type": "code",
   "execution_count": 23,
   "metadata": {
    "scrolled": true
   },
   "outputs": [
    {
     "data": {
      "text/plain": [
       "(array([1, 3, 2, 1, 2, 2, 1, 3, 2, 2, 3, 3, 1, 2, 3, 2, 1, 1, 2, 1, 2, 1,\n",
       "        1, 2, 2, 2, 2, 2, 2, 3, 1, 1, 2, 1, 1, 1, 3, 2, 2, 3, 1, 1, 2, 2,\n",
       "        2, 1, 3, 2, 3, 1, 3, 3, 1, 3, 1, 2, 3, 3, 2, 3, 3, 1, 2, 3, 2, 2,\n",
       "        3, 2, 1, 2, 2, 2, 1, 1, 2, 2, 3, 3, 2, 2, 2, 3, 3, 1, 3, 2, 2, 2,\n",
       "        2], dtype=int64),\n",
       " array([[1. , 0. , 0. ],\n",
       "        [0. , 0. , 1. ],\n",
       "        [0.2, 0.8, 0. ],\n",
       "        [1. , 0. , 0. ],\n",
       "        [0.4, 0.6, 0. ],\n",
       "        [0.2, 0.8, 0. ],\n",
       "        [1. , 0. , 0. ],\n",
       "        [0. , 0. , 1. ],\n",
       "        [0. , 1. , 0. ],\n",
       "        [0. , 1. , 0. ],\n",
       "        [0. , 0. , 1. ],\n",
       "        [0. , 0. , 1. ],\n",
       "        [1. , 0. , 0. ],\n",
       "        [0.4, 0.6, 0. ],\n",
       "        [0. , 0. , 1. ],\n",
       "        [0. , 1. , 0. ],\n",
       "        [1. , 0. , 0. ],\n",
       "        [1. , 0. , 0. ],\n",
       "        [0. , 0.6, 0.4],\n",
       "        [1. , 0. , 0. ],\n",
       "        [0.6, 0.4, 0. ],\n",
       "        [1. , 0. , 0. ],\n",
       "        [0.8, 0.2, 0. ],\n",
       "        [0. , 1. , 0. ],\n",
       "        [0. , 0.8, 0.2],\n",
       "        [0. , 1. , 0. ],\n",
       "        [0. , 1. , 0. ],\n",
       "        [0. , 1. , 0. ],\n",
       "        [0. , 1. , 0. ],\n",
       "        [0. , 0. , 1. ],\n",
       "        [1. , 0. , 0. ],\n",
       "        [1. , 0. , 0. ],\n",
       "        [0. , 0.8, 0.2],\n",
       "        [1. , 0. , 0. ],\n",
       "        [1. , 0. , 0. ],\n",
       "        [1. , 0. , 0. ],\n",
       "        [0. , 0. , 1. ],\n",
       "        [0. , 1. , 0. ],\n",
       "        [0. , 1. , 0. ],\n",
       "        [0. , 0. , 1. ],\n",
       "        [0.8, 0.2, 0. ],\n",
       "        [1. , 0. , 0. ],\n",
       "        [0. , 1. , 0. ],\n",
       "        [0. , 1. , 0. ],\n",
       "        [0. , 1. , 0. ],\n",
       "        [1. , 0. , 0. ],\n",
       "        [0. , 0. , 1. ],\n",
       "        [0.4, 0.6, 0. ],\n",
       "        [0. , 0. , 1. ],\n",
       "        [1. , 0. , 0. ],\n",
       "        [0. , 0. , 1. ],\n",
       "        [0. , 0. , 1. ],\n",
       "        [1. , 0. , 0. ],\n",
       "        [0. , 0. , 1. ],\n",
       "        [1. , 0. , 0. ],\n",
       "        [0. , 1. , 0. ],\n",
       "        [0. , 0. , 1. ],\n",
       "        [0. , 0. , 1. ],\n",
       "        [0.6, 0.4, 0. ],\n",
       "        [0. , 0. , 1. ],\n",
       "        [0. , 0. , 1. ],\n",
       "        [1. , 0. , 0. ],\n",
       "        [0. , 0. , 1. ],\n",
       "        [0. , 0.2, 0.8],\n",
       "        [0. , 1. , 0. ],\n",
       "        [0. , 0.2, 0.8],\n",
       "        [0. , 0. , 1. ],\n",
       "        [0.4, 0.6, 0. ],\n",
       "        [1. , 0. , 0. ],\n",
       "        [0. , 0.8, 0.2],\n",
       "        [0. , 1. , 0. ],\n",
       "        [0. , 0.8, 0.2],\n",
       "        [0.8, 0.2, 0. ],\n",
       "        [1. , 0. , 0. ],\n",
       "        [0. , 1. , 0. ],\n",
       "        [0.6, 0.4, 0. ],\n",
       "        [0. , 0. , 1. ],\n",
       "        [0. , 0. , 1. ],\n",
       "        [0.2, 0.8, 0. ],\n",
       "        [0. , 1. , 0. ],\n",
       "        [0. , 1. , 0. ],\n",
       "        [0. , 0. , 1. ],\n",
       "        [0. , 0. , 1. ],\n",
       "        [1. , 0. , 0. ],\n",
       "        [0. , 0. , 1. ],\n",
       "        [0. , 1. , 0. ],\n",
       "        [0. , 1. , 0. ],\n",
       "        [0. , 1. , 0. ],\n",
       "        [0.2, 0.8, 0. ]]))"
      ]
     },
     "execution_count": 23,
     "metadata": {},
     "output_type": "execute_result"
    }
   ],
   "source": [
    "y_test, prob_knc"
   ]
  },
  {
   "cell_type": "code",
   "execution_count": 24,
   "metadata": {},
   "outputs": [],
   "source": [
    "from sklearn.preprocessing import label_binarize"
   ]
  },
  {
   "cell_type": "code",
   "execution_count": 25,
   "metadata": {
    "scrolled": true
   },
   "outputs": [
    {
     "data": {
      "text/plain": [
       "array([[1, 0, 0],\n",
       "       [0, 0, 1],\n",
       "       [0, 1, 0],\n",
       "       [1, 0, 0],\n",
       "       [0, 1, 0],\n",
       "       [0, 1, 0],\n",
       "       [1, 0, 0],\n",
       "       [0, 0, 1],\n",
       "       [0, 1, 0],\n",
       "       [0, 1, 0],\n",
       "       [0, 0, 1],\n",
       "       [0, 0, 1],\n",
       "       [1, 0, 0],\n",
       "       [0, 1, 0],\n",
       "       [0, 0, 1],\n",
       "       [0, 1, 0],\n",
       "       [1, 0, 0],\n",
       "       [1, 0, 0],\n",
       "       [0, 1, 0],\n",
       "       [1, 0, 0],\n",
       "       [0, 1, 0],\n",
       "       [1, 0, 0],\n",
       "       [1, 0, 0],\n",
       "       [0, 1, 0],\n",
       "       [0, 1, 0],\n",
       "       [0, 1, 0],\n",
       "       [0, 1, 0],\n",
       "       [0, 1, 0],\n",
       "       [0, 1, 0],\n",
       "       [0, 0, 1],\n",
       "       [1, 0, 0],\n",
       "       [1, 0, 0],\n",
       "       [0, 1, 0],\n",
       "       [1, 0, 0],\n",
       "       [1, 0, 0],\n",
       "       [1, 0, 0],\n",
       "       [0, 0, 1],\n",
       "       [0, 1, 0],\n",
       "       [0, 1, 0],\n",
       "       [0, 0, 1],\n",
       "       [1, 0, 0],\n",
       "       [1, 0, 0],\n",
       "       [0, 1, 0],\n",
       "       [0, 1, 0],\n",
       "       [0, 1, 0],\n",
       "       [1, 0, 0],\n",
       "       [0, 0, 1],\n",
       "       [0, 1, 0],\n",
       "       [0, 0, 1],\n",
       "       [1, 0, 0],\n",
       "       [0, 0, 1],\n",
       "       [0, 0, 1],\n",
       "       [1, 0, 0],\n",
       "       [0, 0, 1],\n",
       "       [1, 0, 0],\n",
       "       [0, 1, 0],\n",
       "       [0, 0, 1],\n",
       "       [0, 0, 1],\n",
       "       [0, 1, 0],\n",
       "       [0, 0, 1],\n",
       "       [0, 0, 1],\n",
       "       [1, 0, 0],\n",
       "       [0, 1, 0],\n",
       "       [0, 0, 1],\n",
       "       [0, 1, 0],\n",
       "       [0, 1, 0],\n",
       "       [0, 0, 1],\n",
       "       [0, 1, 0],\n",
       "       [1, 0, 0],\n",
       "       [0, 1, 0],\n",
       "       [0, 1, 0],\n",
       "       [0, 1, 0],\n",
       "       [1, 0, 0],\n",
       "       [1, 0, 0],\n",
       "       [0, 1, 0],\n",
       "       [0, 1, 0],\n",
       "       [0, 0, 1],\n",
       "       [0, 0, 1],\n",
       "       [0, 1, 0],\n",
       "       [0, 1, 0],\n",
       "       [0, 1, 0],\n",
       "       [0, 0, 1],\n",
       "       [0, 0, 1],\n",
       "       [1, 0, 0],\n",
       "       [0, 0, 1],\n",
       "       [0, 1, 0],\n",
       "       [0, 1, 0],\n",
       "       [0, 1, 0],\n",
       "       [0, 1, 0]])"
      ]
     },
     "execution_count": 25,
     "metadata": {},
     "output_type": "execute_result"
    }
   ],
   "source": [
    "y_test_bin = label_binarize(y_test, classes=[1, 2, 3])\n",
    "y_test_bin"
   ]
  },
  {
   "cell_type": "code",
   "execution_count": 26,
   "metadata": {},
   "outputs": [
    {
     "data": {
      "image/png": "[encoded data removed]",
      "text/plain": [
       "<Figure size 360x360 with 1 Axes>"
      ]
     },
     "metadata": {
      "needs_background": "light"
     },
     "output_type": "display_data"
    },
    {
     "data": {
      "image/png": "[encoded data removed]",
      "text/plain": [
       "<Figure size 360x360 with 1 Axes>"
      ]
     },
     "metadata": {
      "needs_background": "light"
     },
     "output_type": "display_data"
    },
    {
     "data": {
      "image/png": "[encoded data removed]",
      "text/plain": [
       "<Figure size 360x360 with 1 Axes>"
      ]
     },
     "metadata": {
      "needs_background": "light"
     },
     "output_type": "display_data"
    }
   ],
   "source": [
    "for i in range(prob_knc.shape[1]):\n",
    "    plt.figure(figsize=(5, 5)) # Размер изображения\n",
    "\n",
    "    tpr, fpr, thresholds = roc_curve(y_test_bin[:, i], -prob_knc[:, i], pos_label=True)\n",
    "    roc_auc = auc(fpr, tpr)\n",
    "    plt.plot(fpr, tpr, label=f'{name} ROC curve (area, = {roc_auc})')\n",
    "    \n",
    "    tpr, fpr, thresholds = roc_curve(y_test_bin[:, i], -prob_per[:, i], pos_label=True)\n",
    "    roc_auc = auc(fpr, tpr)\n",
    "    plt.plot(fpr, tpr, label=f'{name} ROC curve (area, = {roc_auc})')\n",
    "\n",
    "    plt.xlabel('False Positive Rate')\n",
    "    plt.ylabel('True Positive Rate')\n",
    "    \n",
    "    plt.legend(loc='lower right', fontsize='medium')\n",
    "    plt.show()"
   ]
  },
  {
   "cell_type": "code",
   "execution_count": 27,
   "metadata": {},
   "outputs": [
    {
     "data": {
      "image/png": "[encoded data removed]",
      "text/plain": [
       "<Figure size 360x360 with 1 Axes>"
      ]
     },
     "metadata": {
      "needs_background": "light"
     },
     "output_type": "display_data"
    },
    {
     "data": {
      "image/png": "[encoded data removed]",
      "text/plain": [
       "<Figure size 360x360 with 1 Axes>"
      ]
     },
     "metadata": {
      "needs_background": "light"
     },
     "output_type": "display_data"
    },
    {
     "data": {
      "image/png": "[encoded data removed]",
      "text/plain": [
       "<Figure size 360x360 with 1 Axes>"
      ]
     },
     "metadata": {
      "needs_background": "light"
     },
     "output_type": "display_data"
    }
   ],
   "source": [
    "for i in range(prob_knc.shape[1]):\n",
    "    plt.figure(figsize=(5, 5))\n",
    "\n",
    "    precision, recall, thresholds = precision_recall_curve(y_test_bin[:, i], prob_knc[:, i], pos_label=True)\n",
    "    aps_knn0 = average_precision_score(y_test_bin[:, i], prob_knc[:, i])\n",
    "    plt.plot(recall, precision, label='%s PR (area = %f)' % ('KNeighborsClassifier', aps_knn0)) \n",
    "\n",
    "    precision, recall, thresholds = precision_recall_curve(y_test_bin[:, i], prob_per[:, i])\n",
    "    aps_slf1 = average_precision_score(y_test_bin[:, i], prob_per[:,i])\n",
    "    plt.plot(recall, precision, label='%s PR (area = %f)' % ('PerceptronClassifier', aps_slf1))\n",
    "    \n",
    "    plt.xlabel('Recall')\n",
    "    plt.ylabel('Precision')\n",
    "\n",
    "    plt.ylim([-0.1, 1.1])\n",
    "    \n",
    "    plt.legend(loc='lower right', fontsize='medium')\n",
    "    plt.show()"
   ]
  },
  {
   "cell_type": "markdown",
   "metadata": {},
   "source": [
    "Исходя из представленных выше результатов работы моделей, можно определить, что обучение и предсказание моделей близка к \"идеальному\", у моделей одинаковые показатели качества работы на основании ROC и PR кривых."
   ]
  }
 ],
 "metadata": {
  "kernelspec": {
   "display_name": "Python 3",
   "language": "python",
   "name": "python3"
  },
  "language_info": {
   "codemirror_mode": {
    "name": "ipython",
    "version": 3
   },
   "file_extension": ".py",
   "mimetype": "text/x-python",
   "name": "python",
   "nbconvert_exporter": "python",
   "pygments_lexer": "ipython3",
   "version": "3.8.7"
  }
 },
 "nbformat": 4,
 "nbformat_minor": 4
}
